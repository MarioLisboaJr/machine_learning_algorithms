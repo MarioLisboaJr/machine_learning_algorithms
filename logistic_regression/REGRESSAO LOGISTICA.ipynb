{
 "cells": [
  {
   "cell_type": "markdown",
   "id": "34af6267",
   "metadata": {},
   "source": [
    "# REGRESSÃO LOGÍSTICA\n",
    "\n",
    "### Neste notebook você encontrará:\n",
    "\n",
    "**Referências e DataSet**<br/>\n",
    "**Introdução ao Algoritmo**<br/>\n",
    "**Como Funciona**<br/>\n",
    "**Prós e Contras do Modelo**<br/>\n",
    "**Aplicando Regressão Logística - Pima Indians Diabetes Database**"
   ]
  },
  {
   "cell_type": "markdown",
   "id": "d03d31af",
   "metadata": {},
   "source": [
    "### Referências\n",
    "\n",
    "https://scikit-learn.org/stable/modules/linear_model.html#logistic-regression\n",
    "\n",
    "https://scikit-learn.org/stable/modules/generated/sklearn.linear_model.LogisticRegression.html#sklearn.linear_model.LogisticRegression\n",
    "\n",
    "https://www.datacamp.com/community/tutorials/understanding-logistic-regression-python\n",
    "\n",
    "### DataSet\n",
    "\n",
    "https://www.kaggle.com/uciml/pima-indians-diabetes-database"
   ]
  },
  {
   "cell_type": "markdown",
   "id": "f2145374",
   "metadata": {},
   "source": [
    "### Introdução ao Algoritmo"
   ]
  },
  {
   "cell_type": "markdown",
   "id": "a3655cbe",
   "metadata": {},
   "source": [
    "A Regressão Logística (também conhecido como logit, MaxEnt) é um modelo estatístico usado para determinar a probabilidade de sucesso e falha do evento. É semelhante a Regressão Linear, porém, usado quando o resultado é binário (1/0, Verdadeiro/Falso, Sim/Não). Sendo assim, pode ser usado para vários problemas de classificação onde, dado conjunto de características, responderemos se algum evento ocorre ou não ocorre, ou sua probabilidade. <br/>\n",
    "\n",
    "Algumas aplicações reais:<br/>\n",
    "- Um exemplo de uso no setor financeiro é em uma empresa de cartão de crédito, utilizando para prever a probabilidade de um cliente não pagar suas faturas. O modelo construído pode ser para a emissão de um cartão de crédito para um cliente ou não. O modelo pode dizer se um determinado cliente “ficará inadimplente” ou “não ficará inadimplente”. Isso é conhecido como “modelagem de propensão de padrão” em termos bancários.\n",
    "<br/>\n",
    "\n",
    "- Na mesma linha, as empresas de comércio eletrônico investem pesadamente em campanhas publicitárias e promoções em toda a mídia. Eles querem ver qual campanha é a mais eficaz e a opção com maior probabilidade de obter uma resposta de seu público-alvo potencial. O conjunto de modelos categorizará o cliente como “respondente” ou “não respondente” a campanha. Este modelo é chamado de modelagem de propensão para resposta.\n",
    "<br/>\n",
    "\n",
    "- A regressão logística pode ser usada em engenharia para prever o sucesso ou falha de um sistema que está sendo testado ou de um protótipo de produto.\n",
    "\n",
    "\n",
    "Existem três tipos básicos:\n",
    "\n",
    "**Regressão Logística Binomial**: <br/>\n",
    "Há apenas dois resultados possíveis para a resposta categórica.\n",
    "\n",
    "**Regressão Logística Multinomial**: <br/>\n",
    "Podem incluir três ou mais tipos de resultados que não estarão em nenhuma ordem.\n",
    "<br/>Por exemplo: prever se os clientes de um restaurante preferem um certo tipo de comida (vegetariana, carne ou vegana).\n",
    "\n",
    "**Regressão Logística Ordinal**: <br/>\n",
    "Semelhante a multinominal, no entanto, há uma ordem que as medições seguem.\n",
    "<br/>Por exemplo: classificar um hotel em uma escala de 1 a 5 estrelas."
   ]
  },
  {
   "cell_type": "markdown",
   "id": "30ea455a",
   "metadata": {},
   "source": [
    "### Como Funciona"
   ]
  },
  {
   "attachments": {
    "image.png": {
     "image/png": "[encoded data removed]"
    }
   },
   "cell_type": "markdown",
   "id": "532e9cbd",
   "metadata": {},
   "source": [
    "Na regressão linear, traçamos uma reta que melhor se adequa ao conjunto de dados minimizando o erro quadrático médio, já na regressão logística o resultado é estimado através da máxima verossimilhança.\n",
    "\n",
    "Do ponto de vista estatístico, o estimador de máxima verossimilhança define a média e a variância como parâmetros na determinação dos valores paramétricos específicos para um determinado modelo. Este conjunto de parâmetros pode ser usado para prever os dados necessários em uma distribuição normal. Ou seja, ele assume uma função de densidade de probabilidade.\n",
    "\n",
    "Podemos então interpretar o resultado da regressão logística de duas formas, obtendo o percentual da chance de certo evento acontecer, ou, se o resultado for maior que 0,5 classificá-lo como 1 ou SIM, e se for menor que 0,5  classificá-lo como 0 ou NÃO.\n",
    "\n",
    "O cálculo do resultado é dado através da função sigmoide, também chamada de função logística. Ela fornece uma curva em forma de 'S' que pode pegar qualquer número de valor real e mapeá-lo em um valor entre 0 e 1. Se a curva for para infinito positivo, y previsto se tornará 1, e se a curva vai para o infinito negativo, y previsto se tornará 0. <br/>\n",
    "<br/>\n",
    "\n",
    "<br/>![image.png](attachment:image.png)<br/>"
   ]
  },
  {
   "cell_type": "markdown",
   "id": "018ef3ed",
   "metadata": {},
   "source": [
    "### Prós e Contras"
   ]
  },
  {
   "cell_type": "markdown",
   "id": "6749276b",
   "metadata": {},
   "source": [
    "**Prós:**<br/>\n",
    "\n",
    "- Fácil de implementar, interpretar e simples de treinar\n",
    "- Pode facilmente se estender a várias classes como nos casos multinomial e ordinal\n",
    "- Boa precisão para muitos conjuntos de dados simples e bom desempenho quando o conjunto de dados é linearmente separável\n",
    "\n",
    "**Contras:**<br/>\n",
    "\n",
    "- Não pode ser usada para resolver problemas não lineares, ou seja, que contém inequações\n",
    "- Vulnerável ao overfitting, apresentando bons resultados somente nos treinos\n",
    "- Depende muito da apresentação dos dados de entrada. Necessário boa correlação entre a característica e o resultado\n",
    "- Não apresenta bons resultados em problemas de muitas características"
   ]
  },
  {
   "cell_type": "markdown",
   "id": "6a12c5a1",
   "metadata": {},
   "source": [
    "### Aplicando Regressão Logística - Prever o Aparecimento de Diabetes com Base em Medidas de Diagnóstico\n",
    "\n",
    "**Pima Indians Diabetes Database**"
   ]
  },
  {
   "cell_type": "markdown",
   "id": "475d7eec",
   "metadata": {},
   "source": [
    "**Contexto**\n",
    "\n",
    "<br/>\n",
    "Este conjunto de dados é originalmente do Instituto Nacional de Diabetes e Doenças Digestivas e Renais.<br/>\n",
    "O objetivo aqui é prever se um paciente tem ou não diabetes, embasado em medidas providas de diagnóstico. Várias restrições foram colocadas na seleção dessas instâncias de um banco de dados maior. Em particular, todos os pacientes aqui são mulheres com pelo menos 21 anos de ascendência indígena Pima.\n",
    "\n",
    "**Conteúdo**\n",
    "\n",
    "<br/>\n",
    "Os conjuntos de dados consistem em várias variáveis preditoras médicas e uma variável alvo resultado. <br/>\n",
    "\n",
    "As variáveis preditoras incluem:\n",
    "\n",
    "- Pregnancies - Número de gestações que o paciente teve\n",
    "- Glucose - Glicose: concentração de glicose no plasma durante 2 horas em um teste oral de tolerância à glicose\n",
    "- Blood Pressure - Pressão Arterial: pressão arterial diastólica (mm Hg)\n",
    "- Skin Thickness - Espessura de sua pele: espessura da dobra cutânea do tríceps (mm)\n",
    "- Insulin - Insulina: insulina sérica de 2 horas (mu U/ml)\n",
    "- BMI - IMC: índice de massa corporal sendo a igual a peso(kg) / altura(m)\n",
    "- Diabetes Pedigree Function: uma função que pontua a probabilidade de diabetes com base no histórico familiar\n",
    "- Age - Idade em anos\n",
    "\n",
    "A variável alvo resultado, Outcome, indica 1 para pacientes que contém diabetes e 0 para os que não contém.\n",
    "\n",
    "Encontramos então, nesta aplicação, um caso para ser modelado com a Regressão Logística Binomial."
   ]
  },
  {
   "cell_type": "markdown",
   "id": "33eccd65",
   "metadata": {},
   "source": [
    "**Importar Bibliotecas**"
   ]
  },
  {
   "cell_type": "code",
   "execution_count": 1,
   "id": "356fa78f",
   "metadata": {},
   "outputs": [],
   "source": [
    "import pandas as pd\n",
    "import numpy as np\n",
    "\n",
    "import matplotlib.pyplot as plt\n",
    "import seaborn as sns\n",
    "\n",
    "from sklearn.model_selection import train_test_split \n",
    "from sklearn.linear_model import LogisticRegression\n",
    "from sklearn.metrics import classification_report, confusion_matrix, accuracy_score, ConfusionMatrixDisplay"
   ]
  },
  {
   "cell_type": "markdown",
   "id": "2a417b48",
   "metadata": {},
   "source": [
    "**Importar DataSet**"
   ]
  },
  {
   "cell_type": "code",
   "execution_count": 2,
   "id": "c7713e28",
   "metadata": {},
   "outputs": [],
   "source": [
    "df = pd.read_csv('diabetes.csv', sep=',')"
   ]
  },
  {
   "cell_type": "markdown",
   "id": "96c4d6d8",
   "metadata": {},
   "source": [
    "**Explorar DataSet**"
   ]
  },
  {
   "cell_type": "code",
   "execution_count": 3,
   "id": "fe9d6753",
   "metadata": {
    "scrolled": true
   },
   "outputs": [
    {
     "data": {
      "text/html": [
       "<div>\n",
       "<style scoped>\n",
       "    .dataframe tbody tr th:only-of-type {\n",
       "        vertical-align: middle;\n",
       "    }\n",
       "\n",
       "    .dataframe tbody tr th {\n",
       "        vertical-align: top;\n",
       "    }\n",
       "\n",
       "    .dataframe thead th {\n",
       "        text-align: right;\n",
       "    }\n",
       "</style>\n",
       "<table border=\"1\" class=\"dataframe\">\n",
       "  <thead>\n",
       "    <tr style=\"text-align: right;\">\n",
       "      <th></th>\n",
       "      <th>Pregnancies</th>\n",
       "      <th>Glucose</th>\n",
       "      <th>BloodPressure</th>\n",
       "      <th>SkinThickness</th>\n",
       "      <th>Insulin</th>\n",
       "      <th>BMI</th>\n",
       "      <th>DiabetesPedigreeFunction</th>\n",
       "      <th>Age</th>\n",
       "      <th>Outcome</th>\n",
       "    </tr>\n",
       "  </thead>\n",
       "  <tbody>\n",
       "    <tr>\n",
       "      <th>0</th>\n",
       "      <td>6</td>\n",
       "      <td>148</td>\n",
       "      <td>72</td>\n",
       "      <td>35</td>\n",
       "      <td>0</td>\n",
       "      <td>33.6</td>\n",
       "      <td>0.627</td>\n",
       "      <td>50</td>\n",
       "      <td>1</td>\n",
       "    </tr>\n",
       "    <tr>\n",
       "      <th>1</th>\n",
       "      <td>1</td>\n",
       "      <td>85</td>\n",
       "      <td>66</td>\n",
       "      <td>29</td>\n",
       "      <td>0</td>\n",
       "      <td>26.6</td>\n",
       "      <td>0.351</td>\n",
       "      <td>31</td>\n",
       "      <td>0</td>\n",
       "    </tr>\n",
       "    <tr>\n",
       "      <th>2</th>\n",
       "      <td>8</td>\n",
       "      <td>183</td>\n",
       "      <td>64</td>\n",
       "      <td>0</td>\n",
       "      <td>0</td>\n",
       "      <td>23.3</td>\n",
       "      <td>0.672</td>\n",
       "      <td>32</td>\n",
       "      <td>1</td>\n",
       "    </tr>\n",
       "    <tr>\n",
       "      <th>3</th>\n",
       "      <td>1</td>\n",
       "      <td>89</td>\n",
       "      <td>66</td>\n",
       "      <td>23</td>\n",
       "      <td>94</td>\n",
       "      <td>28.1</td>\n",
       "      <td>0.167</td>\n",
       "      <td>21</td>\n",
       "      <td>0</td>\n",
       "    </tr>\n",
       "    <tr>\n",
       "      <th>4</th>\n",
       "      <td>0</td>\n",
       "      <td>137</td>\n",
       "      <td>40</td>\n",
       "      <td>35</td>\n",
       "      <td>168</td>\n",
       "      <td>43.1</td>\n",
       "      <td>2.288</td>\n",
       "      <td>33</td>\n",
       "      <td>1</td>\n",
       "    </tr>\n",
       "  </tbody>\n",
       "</table>\n",
       "</div>"
      ],
      "text/plain": [
       "   Pregnancies  Glucose  BloodPressure  SkinThickness  Insulin   BMI  \\\n",
       "0            6      148             72             35        0  33.6   \n",
       "1            1       85             66             29        0  26.6   \n",
       "2            8      183             64              0        0  23.3   \n",
       "3            1       89             66             23       94  28.1   \n",
       "4            0      137             40             35      168  43.1   \n",
       "\n",
       "   DiabetesPedigreeFunction  Age  Outcome  \n",
       "0                     0.627   50        1  \n",
       "1                     0.351   31        0  \n",
       "2                     0.672   32        1  \n",
       "3                     0.167   21        0  \n",
       "4                     2.288   33        1  "
      ]
     },
     "metadata": {},
     "output_type": "display_data"
    }
   ],
   "source": [
    "#Exibir dataset\n",
    "display(df.head())"
   ]
  },
  {
   "cell_type": "code",
   "execution_count": 4,
   "id": "7b75e3eb",
   "metadata": {},
   "outputs": [
    {
     "name": "stdout",
     "output_type": "stream",
     "text": [
      "<class 'pandas.core.frame.DataFrame'>\n",
      "RangeIndex: 768 entries, 0 to 767\n",
      "Data columns (total 9 columns):\n",
      " #   Column                    Non-Null Count  Dtype  \n",
      "---  ------                    --------------  -----  \n",
      " 0   Pregnancies               768 non-null    int64  \n",
      " 1   Glucose                   768 non-null    int64  \n",
      " 2   BloodPressure             768 non-null    int64  \n",
      " 3   SkinThickness             768 non-null    int64  \n",
      " 4   Insulin                   768 non-null    int64  \n",
      " 5   BMI                       768 non-null    float64\n",
      " 6   DiabetesPedigreeFunction  768 non-null    float64\n",
      " 7   Age                       768 non-null    int64  \n",
      " 8   Outcome                   768 non-null    int64  \n",
      "dtypes: float64(2), int64(7)\n",
      "memory usage: 54.1 KB\n"
     ]
    }
   ],
   "source": [
    "#Exibir informações do dataset\n",
    "df.info()\n",
    "#Não possuímos nenhum dado faltante na nossa base\n",
    "#Os tipos de dados estão coerentes com as informações"
   ]
  },
  {
   "cell_type": "code",
   "execution_count": 5,
   "id": "9791cc78",
   "metadata": {},
   "outputs": [
    {
     "data": {
      "text/html": [
       "<div>\n",
       "<style scoped>\n",
       "    .dataframe tbody tr th:only-of-type {\n",
       "        vertical-align: middle;\n",
       "    }\n",
       "\n",
       "    .dataframe tbody tr th {\n",
       "        vertical-align: top;\n",
       "    }\n",
       "\n",
       "    .dataframe thead th {\n",
       "        text-align: right;\n",
       "    }\n",
       "</style>\n",
       "<table border=\"1\" class=\"dataframe\">\n",
       "  <thead>\n",
       "    <tr style=\"text-align: right;\">\n",
       "      <th></th>\n",
       "      <th>count</th>\n",
       "      <th>mean</th>\n",
       "      <th>std</th>\n",
       "      <th>min</th>\n",
       "      <th>25%</th>\n",
       "      <th>50%</th>\n",
       "      <th>75%</th>\n",
       "      <th>max</th>\n",
       "    </tr>\n",
       "  </thead>\n",
       "  <tbody>\n",
       "    <tr>\n",
       "      <th>Pregnancies</th>\n",
       "      <td>768.0</td>\n",
       "      <td>3.845052</td>\n",
       "      <td>3.369578</td>\n",
       "      <td>0.000</td>\n",
       "      <td>1.00000</td>\n",
       "      <td>3.0000</td>\n",
       "      <td>6.00000</td>\n",
       "      <td>17.00</td>\n",
       "    </tr>\n",
       "    <tr>\n",
       "      <th>Glucose</th>\n",
       "      <td>768.0</td>\n",
       "      <td>120.894531</td>\n",
       "      <td>31.972618</td>\n",
       "      <td>0.000</td>\n",
       "      <td>99.00000</td>\n",
       "      <td>117.0000</td>\n",
       "      <td>140.25000</td>\n",
       "      <td>199.00</td>\n",
       "    </tr>\n",
       "    <tr>\n",
       "      <th>BloodPressure</th>\n",
       "      <td>768.0</td>\n",
       "      <td>69.105469</td>\n",
       "      <td>19.355807</td>\n",
       "      <td>0.000</td>\n",
       "      <td>62.00000</td>\n",
       "      <td>72.0000</td>\n",
       "      <td>80.00000</td>\n",
       "      <td>122.00</td>\n",
       "    </tr>\n",
       "    <tr>\n",
       "      <th>SkinThickness</th>\n",
       "      <td>768.0</td>\n",
       "      <td>20.536458</td>\n",
       "      <td>15.952218</td>\n",
       "      <td>0.000</td>\n",
       "      <td>0.00000</td>\n",
       "      <td>23.0000</td>\n",
       "      <td>32.00000</td>\n",
       "      <td>99.00</td>\n",
       "    </tr>\n",
       "    <tr>\n",
       "      <th>Insulin</th>\n",
       "      <td>768.0</td>\n",
       "      <td>79.799479</td>\n",
       "      <td>115.244002</td>\n",
       "      <td>0.000</td>\n",
       "      <td>0.00000</td>\n",
       "      <td>30.5000</td>\n",
       "      <td>127.25000</td>\n",
       "      <td>846.00</td>\n",
       "    </tr>\n",
       "    <tr>\n",
       "      <th>BMI</th>\n",
       "      <td>768.0</td>\n",
       "      <td>31.992578</td>\n",
       "      <td>7.884160</td>\n",
       "      <td>0.000</td>\n",
       "      <td>27.30000</td>\n",
       "      <td>32.0000</td>\n",
       "      <td>36.60000</td>\n",
       "      <td>67.10</td>\n",
       "    </tr>\n",
       "    <tr>\n",
       "      <th>DiabetesPedigreeFunction</th>\n",
       "      <td>768.0</td>\n",
       "      <td>0.471876</td>\n",
       "      <td>0.331329</td>\n",
       "      <td>0.078</td>\n",
       "      <td>0.24375</td>\n",
       "      <td>0.3725</td>\n",
       "      <td>0.62625</td>\n",
       "      <td>2.42</td>\n",
       "    </tr>\n",
       "    <tr>\n",
       "      <th>Age</th>\n",
       "      <td>768.0</td>\n",
       "      <td>33.240885</td>\n",
       "      <td>11.760232</td>\n",
       "      <td>21.000</td>\n",
       "      <td>24.00000</td>\n",
       "      <td>29.0000</td>\n",
       "      <td>41.00000</td>\n",
       "      <td>81.00</td>\n",
       "    </tr>\n",
       "    <tr>\n",
       "      <th>Outcome</th>\n",
       "      <td>768.0</td>\n",
       "      <td>0.348958</td>\n",
       "      <td>0.476951</td>\n",
       "      <td>0.000</td>\n",
       "      <td>0.00000</td>\n",
       "      <td>0.0000</td>\n",
       "      <td>1.00000</td>\n",
       "      <td>1.00</td>\n",
       "    </tr>\n",
       "  </tbody>\n",
       "</table>\n",
       "</div>"
      ],
      "text/plain": [
       "                          count        mean         std     min       25%  \\\n",
       "Pregnancies               768.0    3.845052    3.369578   0.000   1.00000   \n",
       "Glucose                   768.0  120.894531   31.972618   0.000  99.00000   \n",
       "BloodPressure             768.0   69.105469   19.355807   0.000  62.00000   \n",
       "SkinThickness             768.0   20.536458   15.952218   0.000   0.00000   \n",
       "Insulin                   768.0   79.799479  115.244002   0.000   0.00000   \n",
       "BMI                       768.0   31.992578    7.884160   0.000  27.30000   \n",
       "DiabetesPedigreeFunction  768.0    0.471876    0.331329   0.078   0.24375   \n",
       "Age                       768.0   33.240885   11.760232  21.000  24.00000   \n",
       "Outcome                   768.0    0.348958    0.476951   0.000   0.00000   \n",
       "\n",
       "                               50%        75%     max  \n",
       "Pregnancies                 3.0000    6.00000   17.00  \n",
       "Glucose                   117.0000  140.25000  199.00  \n",
       "BloodPressure              72.0000   80.00000  122.00  \n",
       "SkinThickness              23.0000   32.00000   99.00  \n",
       "Insulin                    30.5000  127.25000  846.00  \n",
       "BMI                        32.0000   36.60000   67.10  \n",
       "DiabetesPedigreeFunction    0.3725    0.62625    2.42  \n",
       "Age                        29.0000   41.00000   81.00  \n",
       "Outcome                     0.0000    1.00000    1.00  "
      ]
     },
     "metadata": {},
     "output_type": "display_data"
    }
   ],
   "source": [
    "#Exibir informações estatísticas do dataset\n",
    "display(df.describe().transpose())"
   ]
  },
  {
   "cell_type": "markdown",
   "id": "e8f36c67",
   "metadata": {},
   "source": [
    "Pelo resultado apresentado podemos notar que apesar de não termos dados nulos no nosso dataset, existem vários valores preenchidos com o valor zero, vide coluna min, e isso não faz sentido em seu contexto. Por exemplo: _Glucose, BloodPressure, SkinThickness, Insulin e BMI_.\n",
    "\n",
    "Trataremos então estes valores zerados nestas características como valores faltantes.\n",
    "\n",
    "Vamos checar melhor estas informações..."
   ]
  },
  {
   "cell_type": "code",
   "execution_count": 6,
   "id": "65556bea",
   "metadata": {
    "scrolled": false
   },
   "outputs": [
    {
     "name": "stdout",
     "output_type": "stream",
     "text": [
      "\n",
      "Quantidade de dados preenchidos incorretamente com o valor zero por coluna:\n",
      "\n",
      "Glucose: 5 (1%)\n",
      "BloodPressure: 35 (5%)\n",
      "SkinThickness: 227 (30%)\n",
      "Insulin: 374 (49%)\n",
      "BMI: 11 (1%)\n"
     ]
    }
   ],
   "source": [
    "#Vamos checar quantos dados estão preenchidos incorretamente com o valor 0\n",
    "aux = ['Glucose', 'BloodPressure', 'SkinThickness', 'Insulin', 'BMI']\n",
    "print('\\nQuantidade de dados preenchidos incorretamente com o valor zero por coluna:\\n')\n",
    "for item in aux:\n",
    "        qtd = len(df[df[item] == 0])\n",
    "        perc = qtd/len(df)\n",
    "        print('{}: {} ({:1.0%})'.format(item, qtd, perc))"
   ]
  },
  {
   "cell_type": "markdown",
   "id": "745bfaed",
   "metadata": {},
   "source": [
    "Podemos analisar também como estes dados faltantes influenciam na variação dos dados.\n",
    "\n",
    "Abaixo criaremos um diagrama de caixa comparando, os dados originais e os dados com os valores faltantes descartados para visualizar o impacto na estatística dos dados amostrais."
   ]
  },
  {
   "cell_type": "code",
   "execution_count": 7,
   "id": "de875b73",
   "metadata": {
    "scrolled": false
   },
   "outputs": [
    {
     "data": {
      "image/png": "[encoded data removed]",
      "text/plain": [
       "<Figure size 1080x360 with 2 Axes>"
      ]
     },
     "metadata": {
      "needs_background": "light"
     },
     "output_type": "display_data"
    },
    {
     "data": {
      "image/png": "[encoded data removed]",
      "text/plain": [
       "<Figure size 1080x360 with 2 Axes>"
      ]
     },
     "metadata": {
      "needs_background": "light"
     },
     "output_type": "display_data"
    },
    {
     "data": {
      "image/png": "[encoded data removed]",
      "text/plain": [
       "<Figure size 1080x360 with 2 Axes>"
      ]
     },
     "metadata": {
      "needs_background": "light"
     },
     "output_type": "display_data"
    },
    {
     "data": {
      "image/png": "[encoded data removed]",
      "text/plain": [
       "<Figure size 1080x360 with 2 Axes>"
      ]
     },
     "metadata": {
      "needs_background": "light"
     },
     "output_type": "display_data"
    },
    {
     "data": {
      "image/png": "[encoded data removed]",
      "text/plain": [
       "<Figure size 1080x360 with 2 Axes>"
      ]
     },
     "metadata": {
      "needs_background": "light"
     },
     "output_type": "display_data"
    }
   ],
   "source": [
    "for item in aux:\n",
    "    fig, (ax1, ax2) = plt.subplots(1, 2, figsize=(15,5))\n",
    "    fig.suptitle('BoxPlot Comparativo entre Dataset Original e Dataset com Valores 0 Descartados')\n",
    "    aux_df = df[item]\n",
    "    ax1.boxplot(aux_df, flierprops={'markerfacecolor': 'r', 'marker': 's'}, showmeans=True)\n",
    "    ax1.set_title(f'{item}: Amostra Original')\n",
    "    ax2.boxplot(aux_df[aux_df != 0], flierprops={'markerfacecolor': 'r', 'marker': 's'}, showmeans=True)\n",
    "    ax2.set_title(f'{item}: Amostra com Valores Descartados')\n",
    "    plt.show()"
   ]
  },
  {
   "cell_type": "markdown",
   "id": "b617e0dd",
   "metadata": {},
   "source": [
    "Podemos observar que, em: <br/>\n",
    "\n",
    "Glucose, BloodPressure e BMI: Existe uma variação mínima entre os gráficos. A mais notória é que os valores 0 são descritos como outliers dos dados. Para correção descartaremos estes dados e assumiremos eles como a média dos demais.\n",
    "\n",
    "SkinThickness: Possui muitos dados faltantes, cerca de 30%, e isso altera significativamente a distribuição de densidade desta caracteríistica. Por hora, estes valores também serão substituídos pela média dos demais para avaliarmos o seu impacto no resultado.\n",
    "\n",
    "Insulin: Muitos dados com valores faltantes, próximo a metade deles (49%). Além disso, muitos resultados são tratados aparentemente como outliers, podendo ser um indicativo para esta característica variar muito de pessoa para pessoa. Sendo assim, descartaremos esta informação do modelo, pois torna-se difícil a substituição destes dados por algum outro valor estatístico referente aos demais."
   ]
  },
  {
   "cell_type": "code",
   "execution_count": 8,
   "id": "faac8eb1",
   "metadata": {
    "scrolled": true
   },
   "outputs": [],
   "source": [
    "#Corrigir valores 0 para a média dos demais dados conforme observado\n",
    "df_corrigido = df[['Glucose', 'BloodPressure', 'BMI','SkinThickness']].replace(0, np.nan)\n",
    "df_corrigido = df_corrigido.fillna(df_corrigido.mean())\n",
    "\n",
    "for coluna in df.columns:\n",
    "    if coluna not in df_corrigido.columns:\n",
    "        df_corrigido[coluna] = df[coluna] \n",
    "        \n",
    "#Excluir a coluna Insulin do modelo\n",
    "df_corrigido = df_corrigido.drop('Insulin', axis=1)"
   ]
  },
  {
   "cell_type": "markdown",
   "id": "6bbb1954",
   "metadata": {},
   "source": [
    "Após o tratamento dos dados conforme observado acima, teremos uma nova estatística sobre eles."
   ]
  },
  {
   "cell_type": "code",
   "execution_count": 9,
   "id": "204e7feb",
   "metadata": {
    "scrolled": true
   },
   "outputs": [
    {
     "data": {
      "text/html": [
       "<div>\n",
       "<style scoped>\n",
       "    .dataframe tbody tr th:only-of-type {\n",
       "        vertical-align: middle;\n",
       "    }\n",
       "\n",
       "    .dataframe tbody tr th {\n",
       "        vertical-align: top;\n",
       "    }\n",
       "\n",
       "    .dataframe thead th {\n",
       "        text-align: right;\n",
       "    }\n",
       "</style>\n",
       "<table border=\"1\" class=\"dataframe\">\n",
       "  <thead>\n",
       "    <tr style=\"text-align: right;\">\n",
       "      <th></th>\n",
       "      <th>count</th>\n",
       "      <th>mean</th>\n",
       "      <th>std</th>\n",
       "      <th>min</th>\n",
       "      <th>25%</th>\n",
       "      <th>50%</th>\n",
       "      <th>75%</th>\n",
       "      <th>max</th>\n",
       "    </tr>\n",
       "  </thead>\n",
       "  <tbody>\n",
       "    <tr>\n",
       "      <th>Glucose</th>\n",
       "      <td>768.0</td>\n",
       "      <td>121.686763</td>\n",
       "      <td>30.435949</td>\n",
       "      <td>44.000</td>\n",
       "      <td>99.75000</td>\n",
       "      <td>117.000000</td>\n",
       "      <td>140.25000</td>\n",
       "      <td>199.00</td>\n",
       "    </tr>\n",
       "    <tr>\n",
       "      <th>BloodPressure</th>\n",
       "      <td>768.0</td>\n",
       "      <td>72.405184</td>\n",
       "      <td>12.096346</td>\n",
       "      <td>24.000</td>\n",
       "      <td>64.00000</td>\n",
       "      <td>72.202592</td>\n",
       "      <td>80.00000</td>\n",
       "      <td>122.00</td>\n",
       "    </tr>\n",
       "    <tr>\n",
       "      <th>BMI</th>\n",
       "      <td>768.0</td>\n",
       "      <td>32.457464</td>\n",
       "      <td>6.875151</td>\n",
       "      <td>18.200</td>\n",
       "      <td>27.50000</td>\n",
       "      <td>32.400000</td>\n",
       "      <td>36.60000</td>\n",
       "      <td>67.10</td>\n",
       "    </tr>\n",
       "    <tr>\n",
       "      <th>SkinThickness</th>\n",
       "      <td>768.0</td>\n",
       "      <td>29.153420</td>\n",
       "      <td>8.790942</td>\n",
       "      <td>7.000</td>\n",
       "      <td>25.00000</td>\n",
       "      <td>29.153420</td>\n",
       "      <td>32.00000</td>\n",
       "      <td>99.00</td>\n",
       "    </tr>\n",
       "    <tr>\n",
       "      <th>Pregnancies</th>\n",
       "      <td>768.0</td>\n",
       "      <td>3.845052</td>\n",
       "      <td>3.369578</td>\n",
       "      <td>0.000</td>\n",
       "      <td>1.00000</td>\n",
       "      <td>3.000000</td>\n",
       "      <td>6.00000</td>\n",
       "      <td>17.00</td>\n",
       "    </tr>\n",
       "    <tr>\n",
       "      <th>DiabetesPedigreeFunction</th>\n",
       "      <td>768.0</td>\n",
       "      <td>0.471876</td>\n",
       "      <td>0.331329</td>\n",
       "      <td>0.078</td>\n",
       "      <td>0.24375</td>\n",
       "      <td>0.372500</td>\n",
       "      <td>0.62625</td>\n",
       "      <td>2.42</td>\n",
       "    </tr>\n",
       "    <tr>\n",
       "      <th>Age</th>\n",
       "      <td>768.0</td>\n",
       "      <td>33.240885</td>\n",
       "      <td>11.760232</td>\n",
       "      <td>21.000</td>\n",
       "      <td>24.00000</td>\n",
       "      <td>29.000000</td>\n",
       "      <td>41.00000</td>\n",
       "      <td>81.00</td>\n",
       "    </tr>\n",
       "    <tr>\n",
       "      <th>Outcome</th>\n",
       "      <td>768.0</td>\n",
       "      <td>0.348958</td>\n",
       "      <td>0.476951</td>\n",
       "      <td>0.000</td>\n",
       "      <td>0.00000</td>\n",
       "      <td>0.000000</td>\n",
       "      <td>1.00000</td>\n",
       "      <td>1.00</td>\n",
       "    </tr>\n",
       "  </tbody>\n",
       "</table>\n",
       "</div>"
      ],
      "text/plain": [
       "                          count        mean        std     min       25%  \\\n",
       "Glucose                   768.0  121.686763  30.435949  44.000  99.75000   \n",
       "BloodPressure             768.0   72.405184  12.096346  24.000  64.00000   \n",
       "BMI                       768.0   32.457464   6.875151  18.200  27.50000   \n",
       "SkinThickness             768.0   29.153420   8.790942   7.000  25.00000   \n",
       "Pregnancies               768.0    3.845052   3.369578   0.000   1.00000   \n",
       "DiabetesPedigreeFunction  768.0    0.471876   0.331329   0.078   0.24375   \n",
       "Age                       768.0   33.240885  11.760232  21.000  24.00000   \n",
       "Outcome                   768.0    0.348958   0.476951   0.000   0.00000   \n",
       "\n",
       "                                 50%        75%     max  \n",
       "Glucose                   117.000000  140.25000  199.00  \n",
       "BloodPressure              72.202592   80.00000  122.00  \n",
       "BMI                        32.400000   36.60000   67.10  \n",
       "SkinThickness              29.153420   32.00000   99.00  \n",
       "Pregnancies                 3.000000    6.00000   17.00  \n",
       "DiabetesPedigreeFunction    0.372500    0.62625    2.42  \n",
       "Age                        29.000000   41.00000   81.00  \n",
       "Outcome                     0.000000    1.00000    1.00  "
      ]
     },
     "metadata": {},
     "output_type": "display_data"
    }
   ],
   "source": [
    "#Exibir nova estatística do modelo\n",
    "display(df_corrigido.describe().transpose())"
   ]
  },
  {
   "cell_type": "markdown",
   "id": "950ae422",
   "metadata": {},
   "source": [
    "Vamos analisar também como a qualidade individual dos dados de entrada influenciam no resultado da classificação.<br/>\n",
    "Abaixo plotaremos o gráfico de correlação entre todas as variáveis do problema."
   ]
  },
  {
   "cell_type": "code",
   "execution_count": 10,
   "id": "02031cab",
   "metadata": {
    "scrolled": true
   },
   "outputs": [
    {
     "data": {
      "image/png": "[encoded data removed]",
      "text/plain": [
       "<Figure size 1080x360 with 2 Axes>"
      ]
     },
     "metadata": {
      "needs_background": "light"
     },
     "output_type": "display_data"
    }
   ],
   "source": [
    "#Exibir correlação das informações\n",
    "plt.figure(figsize=(15,5))\n",
    "sns.heatmap(df_corrigido.corr(), cmap='Greys', annot=True)\n",
    "plt.title('Gráfico de Correlação')\n",
    "plt.show()"
   ]
  },
  {
   "cell_type": "markdown",
   "id": "2f9a7cc4",
   "metadata": {},
   "source": [
    "Pelo gráfico de correlação acima, notamos que _Glucose_ e _BMI_ possuem maior correlação individual com o resultado (_Outcome_) do que as demais características. Porém nada muito significativo se avaliadas individualmente com relação a predisposição ao diabetes.\n",
    "\n",
    "Nota-se também uma certa correlação entre _Age_ e _Pregnancies_, e entre _BMI_ e _SkinThickness_."
   ]
  },
  {
   "cell_type": "markdown",
   "id": "122bc0b2",
   "metadata": {},
   "source": [
    "Agora, a distribuição amostral dos pacientes diabéticos e não diabéticos pode ser observada abaixo:"
   ]
  },
  {
   "cell_type": "code",
   "execution_count": 11,
   "id": "067aa8a4",
   "metadata": {
    "scrolled": false
   },
   "outputs": [
    {
     "name": "stdout",
     "output_type": "stream",
     "text": [
      "Quantidade de pessoas com Diabetes: 268\n",
      "Quantidade de pessoas sem Diabetes: 500\n"
     ]
    },
    {
     "data": {
      "image/png": "[encoded data removed]",
      "text/plain": [
       "<Figure size 432x288 with 1 Axes>"
      ]
     },
     "metadata": {},
     "output_type": "display_data"
    }
   ],
   "source": [
    "#Checar a distribuição dos pacientes com relação a diabetes\n",
    "positivo_para_diabetes = df_corrigido.groupby('Outcome').count().iloc[1][0]\n",
    "negativo_para_diabetes = df_corrigido.groupby('Outcome').count().iloc[0][0]\n",
    "\n",
    "print(f'Quantidade de pessoas com Diabetes: {positivo_para_diabetes}')\n",
    "print(f'Quantidade de pessoas sem Diabetes: {negativo_para_diabetes}')\n",
    "\n",
    "#Criar gráfico\n",
    "plt.pie([positivo_para_diabetes, negativo_para_diabetes], labels=['Com Diabete', 'Sem Diabete'], colors=['Brown', 'Grey'], autopct='%1.0f%%' )\n",
    "plt.title('Percentual de Diabéticos na Amostra')\n",
    "plt.show()"
   ]
  },
  {
   "cell_type": "markdown",
   "id": "0763d372",
   "metadata": {},
   "source": [
    "Aparentemente esta base de dados apresenta uma boa distribuição de dados, visto que, imagino eu, a população que contém diabete de algum tipo ser realmente em menor proporção."
   ]
  },
  {
   "cell_type": "markdown",
   "id": "68f5af34",
   "metadata": {},
   "source": [
    "**Separar os Dados**"
   ]
  },
  {
   "cell_type": "markdown",
   "id": "3474663a",
   "metadata": {},
   "source": [
    "Para criação do modelo de previsão precisamos dividir nosso dataset entre as características de entrada e o resultado esperado. <br/>\n",
    "Por isso iremos separar os dados em x e y, sendo:\n",
    "- y o resultado, ou seja, a categoria a ser classificada. Variável dependente. \n",
    "- x são as características dos dados que possibilitam encontrar o y. Variável independente."
   ]
  },
  {
   "cell_type": "code",
   "execution_count": 12,
   "id": "5d3fbf75",
   "metadata": {},
   "outputs": [],
   "source": [
    "y = df_corrigido['Outcome']\n",
    "x = df_corrigido.drop('Outcome', axis=1)"
   ]
  },
  {
   "cell_type": "markdown",
   "id": "d68a197d",
   "metadata": {},
   "source": [
    "Separamos agora os dados para treino e teste do modelo."
   ]
  },
  {
   "cell_type": "code",
   "execution_count": 13,
   "id": "f578c5f8",
   "metadata": {},
   "outputs": [],
   "source": [
    "x_treino, x_teste, y_treino, y_teste = train_test_split(x, y, test_size=0.25, random_state=0)\n",
    "#test_size para definir o ponto em que os dados serão particionados 25% para teste e o demais para treino\n",
    "#random_state para que a chamada da função seja replicável. Caso não seja informado os dados serão sempre diferentes"
   ]
  },
  {
   "attachments": {
    "image.png": {
     "image/png": "[encoded data removed]"
    }
   },
   "cell_type": "markdown",
   "id": "cf5f5826",
   "metadata": {},
   "source": [
    "Como nossas características tem valores muito diferentes entre si, é uma boa prática padronizarmos todas as entradas. <br/>\n",
    "Modelos de machine learning se beneficiam muito com esta técnica e, também, nos torna mais fácil entender a importância de cada característica, pois conseguiremos ver o peso de cada uma sem o viés de sua dimensionalidade. <br/>\n",
    "\n",
    "Para padronização utilizaremos a fórmula do z-score: \n",
    "\n",
    "<br/>![image.png](attachment:image.png)<br/>\n",
    "\n",
    "Mas o que é padronizar os dados? <br/>\n",
    "\n",
    "Padronizar é transformar todas as variáveis para uma mesma ordem de grandeza. Variáveis padronizadas podem ser diretamente comparáveis, pois elas são expressas em unidades de desvio padrão e não possuem dimensão. Possuem média igual a 0 desvio-padrão igual a 1."
   ]
  },
  {
   "cell_type": "code",
   "execution_count": 14,
   "id": "4805403e",
   "metadata": {},
   "outputs": [],
   "source": [
    "#Padronizar variáveis independentes\n",
    "z_x_treino = (x_treino - x_treino.mean()) / x_treino.std()\n",
    "z_x_teste = (x_teste - x_teste.mean()) / x_teste.std()"
   ]
  },
  {
   "cell_type": "code",
   "execution_count": 15,
   "id": "c1b82b3f",
   "metadata": {
    "scrolled": true
   },
   "outputs": [
    {
     "data": {
      "text/html": [
       "<div>\n",
       "<style scoped>\n",
       "    .dataframe tbody tr th:only-of-type {\n",
       "        vertical-align: middle;\n",
       "    }\n",
       "\n",
       "    .dataframe tbody tr th {\n",
       "        vertical-align: top;\n",
       "    }\n",
       "\n",
       "    .dataframe thead th {\n",
       "        text-align: right;\n",
       "    }\n",
       "</style>\n",
       "<table border=\"1\" class=\"dataframe\">\n",
       "  <thead>\n",
       "    <tr style=\"text-align: right;\">\n",
       "      <th></th>\n",
       "      <th>count</th>\n",
       "      <th>mean</th>\n",
       "      <th>std</th>\n",
       "      <th>min</th>\n",
       "      <th>25%</th>\n",
       "      <th>50%</th>\n",
       "      <th>75%</th>\n",
       "      <th>max</th>\n",
       "    </tr>\n",
       "  </thead>\n",
       "  <tbody>\n",
       "    <tr>\n",
       "      <th>Glucose</th>\n",
       "      <td>768.0</td>\n",
       "      <td>5.012628e-16</td>\n",
       "      <td>0.999348</td>\n",
       "      <td>-2.423498</td>\n",
       "      <td>-0.732489</td>\n",
       "      <td>-0.149786</td>\n",
       "      <td>0.607554</td>\n",
       "      <td>2.530225</td>\n",
       "    </tr>\n",
       "    <tr>\n",
       "      <th>BloodPressure</th>\n",
       "      <td>768.0</td>\n",
       "      <td>-2.698941e-16</td>\n",
       "      <td>0.999348</td>\n",
       "      <td>-3.707279</td>\n",
       "      <td>-0.659683</td>\n",
       "      <td>-0.035521</td>\n",
       "      <td>0.604625</td>\n",
       "      <td>4.144687</td>\n",
       "    </tr>\n",
       "    <tr>\n",
       "      <th>BMI</th>\n",
       "      <td>768.0</td>\n",
       "      <td>-4.042999e-15</td>\n",
       "      <td>0.999348</td>\n",
       "      <td>-2.091156</td>\n",
       "      <td>-0.724792</td>\n",
       "      <td>-0.028963</td>\n",
       "      <td>0.593102</td>\n",
       "      <td>4.933558</td>\n",
       "    </tr>\n",
       "    <tr>\n",
       "      <th>SkinThickness</th>\n",
       "      <td>768.0</td>\n",
       "      <td>5.235468e-15</td>\n",
       "      <td>0.999348</td>\n",
       "      <td>-2.494484</td>\n",
       "      <td>-0.487905</td>\n",
       "      <td>-0.024896</td>\n",
       "      <td>0.403908</td>\n",
       "      <td>7.761365</td>\n",
       "    </tr>\n",
       "    <tr>\n",
       "      <th>Pregnancies</th>\n",
       "      <td>768.0</td>\n",
       "      <td>-9.396419e-19</td>\n",
       "      <td>0.999348</td>\n",
       "      <td>-1.204405</td>\n",
       "      <td>-0.829143</td>\n",
       "      <td>-0.245297</td>\n",
       "      <td>0.630473</td>\n",
       "      <td>3.841629</td>\n",
       "    </tr>\n",
       "    <tr>\n",
       "      <th>DiabetesPedigreeFunction</th>\n",
       "      <td>768.0</td>\n",
       "      <td>6.878179e-16</td>\n",
       "      <td>0.999348</td>\n",
       "      <td>-1.174949</td>\n",
       "      <td>-0.693220</td>\n",
       "      <td>-0.299476</td>\n",
       "      <td>0.456409</td>\n",
       "      <td>5.870952</td>\n",
       "    </tr>\n",
       "    <tr>\n",
       "      <th>Age</th>\n",
       "      <td>768.0</td>\n",
       "      <td>-8.095376e-17</td>\n",
       "      <td>0.999348</td>\n",
       "      <td>-1.048320</td>\n",
       "      <td>-0.798389</td>\n",
       "      <td>-0.381838</td>\n",
       "      <td>0.617884</td>\n",
       "      <td>3.950292</td>\n",
       "    </tr>\n",
       "  </tbody>\n",
       "</table>\n",
       "</div>"
      ],
      "text/plain": [
       "                          count          mean       std       min       25%  \\\n",
       "Glucose                   768.0  5.012628e-16  0.999348 -2.423498 -0.732489   \n",
       "BloodPressure             768.0 -2.698941e-16  0.999348 -3.707279 -0.659683   \n",
       "BMI                       768.0 -4.042999e-15  0.999348 -2.091156 -0.724792   \n",
       "SkinThickness             768.0  5.235468e-15  0.999348 -2.494484 -0.487905   \n",
       "Pregnancies               768.0 -9.396419e-19  0.999348 -1.204405 -0.829143   \n",
       "DiabetesPedigreeFunction  768.0  6.878179e-16  0.999348 -1.174949 -0.693220   \n",
       "Age                       768.0 -8.095376e-17  0.999348 -1.048320 -0.798389   \n",
       "\n",
       "                               50%       75%       max  \n",
       "Glucose                  -0.149786  0.607554  2.530225  \n",
       "BloodPressure            -0.035521  0.604625  4.144687  \n",
       "BMI                      -0.028963  0.593102  4.933558  \n",
       "SkinThickness            -0.024896  0.403908  7.761365  \n",
       "Pregnancies              -0.245297  0.630473  3.841629  \n",
       "DiabetesPedigreeFunction -0.299476  0.456409  5.870952  \n",
       "Age                      -0.381838  0.617884  3.950292  "
      ]
     },
     "metadata": {},
     "output_type": "display_data"
    }
   ],
   "source": [
    "#Visualizar estatística dos dados padronizados\n",
    "display(pd.concat([z_x_teste, z_x_treino]).describe().transpose())"
   ]
  },
  {
   "cell_type": "markdown",
   "id": "cff5b6dc",
   "metadata": {},
   "source": [
    "Vemos agora que nossas características estão com resultados mais parecidos entre si. Diferentemente do visualizado anteriormente antes da padronização."
   ]
  },
  {
   "cell_type": "markdown",
   "id": "65113a7f",
   "metadata": {},
   "source": [
    "**Criar Modelo de Regressão Logística** "
   ]
  },
  {
   "cell_type": "markdown",
   "id": "73b231ab",
   "metadata": {},
   "source": [
    "Com nossos dados separados, agora já podemos criar o modelo de machine learning."
   ]
  },
  {
   "cell_type": "code",
   "execution_count": 16,
   "id": "a1079048",
   "metadata": {},
   "outputs": [],
   "source": [
    "classificar_diabetes = LogisticRegression(max_iter=200)\n",
    "#max_iter = número máximo de iterações tomadas para os solucionadores convergirem.\n",
    "#Teve de ser explicitada porque com o valor padrão igual a 100, o modelo não convergiu a um resultado\n",
    "\n",
    "#Treinar Modelo\n",
    "classificar_diabetes.fit(z_x_treino, y_treino)\n",
    "\n",
    "#Testar Modelo\n",
    "y_pred = classificar_diabetes.predict(z_x_teste)"
   ]
  },
  {
   "cell_type": "markdown",
   "id": "28021e93",
   "metadata": {},
   "source": [
    "**Avaliar Modelo**"
   ]
  },
  {
   "attachments": {
    "image.png": {
     "image/png": "[encoded data removed]"
    }
   },
   "cell_type": "markdown",
   "id": "1f99da6c",
   "metadata": {},
   "source": [
    "**Matriz de Confusão**:\n",
    "\n",
    "![image.png](attachment:image.png)\n",
    "\n",
    "**Métricas obtidas a partir dela**:\n",
    "\n",
    "**Precisão = TP / (TP+FP)**: <br/>\n",
    "Mede quantas estão corretas dentre todos os valores preditos de classe Positivo que o modelo fez. A precisão é uma boa medida para determinar, quando os custos do Falso Positivo são altos. Por exemplo, na detecção de spam de e-mail um falso positivo significa que um e-mail que não é spam (negativo real) foi identificado como spam (spam previsto). O usuário de email pode perder emails importantes se a precisão não for alta para o modelo de detecção de spam.\n",
    "\n",
    "**Recal = TP / (TP+FN)**: <br/>\n",
    "Mede quantas estão corretas dentre todas as situações reais da classe Positivo como valor esperado. Aplicando o mesmo entendimento, sabemos que Recall será a métrica do modelo que usamos para selecionar nosso melhor modelo quando há um alto custo associado a Falso Negativo. Por exemplo, se um paciente doente (Real Positivo) passa pelo teste e é previsto como não doente (Previsto Negativo). O custo associado ao Falso Negativo será extremamente alto se a doença for contagiosa ou necessitar de um diagnóstico precoce. \n",
    "\n",
    "**F1-Score = 2x (Precisão x Recall / Precisão + Recall)**: <br/>\n",
    "Média harmônica entre precisão e recall. A F1-Score pode ser uma medida melhor a ser usada se precisarmos buscar um equilíbrio entre precisão e recall e houver uma distribuição de classes desigual. Ou seja, quando se tem um F1-Score baixo, é um indicativo de que ou a precisão ou o recall está baixo.\n",
    "\n",
    "**Acuracidade = (TP+VN) / (TP+TN+FP+FN)**: <br/>\n",
    "Indica uma performance geral do modelo. Dentre todas as classificações, quantas o modelo classificou corretamente. "
   ]
  },
  {
   "cell_type": "code",
   "execution_count": 17,
   "id": "6ea13ff5",
   "metadata": {
    "scrolled": true
   },
   "outputs": [
    {
     "data": {
      "image/png": "[encoded data removed]",
      "text/plain": [
       "<Figure size 432x288 with 2 Axes>"
      ]
     },
     "metadata": {
      "needs_background": "light"
     },
     "output_type": "display_data"
    },
    {
     "name": "stdout",
     "output_type": "stream",
     "text": [
      "\n",
      "\n",
      "Relatório de Classificação:\n",
      "\n",
      "               precision    recall  f1-score   support\n",
      "\n",
      "           0       0.82      0.90      0.86       130\n",
      "           1       0.73      0.58      0.65        62\n",
      "\n",
      "    accuracy                           0.80       192\n",
      "   macro avg       0.78      0.74      0.75       192\n",
      "weighted avg       0.79      0.80      0.79       192\n",
      "\n"
     ]
    }
   ],
   "source": [
    "#Comparar os valores previstos de y pelo modelo com os valores y_teste\n",
    "#Criar matriz de confusão\n",
    "grafico = ConfusionMatrixDisplay(confusion_matrix(y_teste, y_pred), display_labels=classificar_diabetes.classes_)\n",
    "grafico.plot()\n",
    "plt.title('Matriz de Confusão')\n",
    "plt.show()\n",
    "\n",
    "print('\\n\\nRelatório de Classificação:\\n\\n',classification_report(y_teste, y_pred))"
   ]
  },
  {
   "cell_type": "markdown",
   "id": "2d0b1e07",
   "metadata": {},
   "source": [
    "Pela matriz de confusão podemos observar que:\n",
    "\n",
    "- O modelo acertou 117 pacientes que não possuíam diabetes e 36 que eram diabéticos\n",
    "- O modelo errou 13 pacientes que não eram diabéticos dizendo serem e 26 que eram dizendo não serem \n",
    "\n",
    "Complementando com o relatório de classificação, temos que, nosso modelo obteve:\n",
    "\n",
    "- Acuracidade de 80% em suas classificações.\n",
    "- 82% de precisão sobre os pacientes não diabéticos e 73% sobre os diabéticos\n",
    "- 90% de recall sobre os não diabéticos e 58% sobre os diabéticos."
   ]
  },
  {
   "cell_type": "markdown",
   "id": "177ed7c6",
   "metadata": {},
   "source": [
    "**Coeficiente de Importância**"
   ]
  },
  {
   "cell_type": "markdown",
   "id": "412a4bf8",
   "metadata": {},
   "source": [
    "Como dito anteriormente, como padronizamos nossos dados, agora podemos ver o peso da influência de cada característica no resultado do modelo.\n",
    "\n",
    "Pela padronização feita, não teremos vieses por diferença de escala entre cada variável de entrada.\n",
    "\n",
    "Este coeficiente representará o x da função sigmoide demonstrada anteriormente. Como o ponto de inflexão da função ocorre em x igual a 0, trazendo y=0,5, caso o coeficiente seja menor que 0 indicará a não ocorrência do evento (y < 0,5) e caso seja maior que 0 indicará a ocorrência do evento (y > 0,5). Sendo assim, quanto maior ou menor o valor do coeficiente maior será a probabilidade do evento acontecer ou não acontecer, respectivamente."
   ]
  },
  {
   "cell_type": "code",
   "execution_count": 18,
   "id": "db06b971",
   "metadata": {
    "scrolled": true
   },
   "outputs": [
    {
     "data": {
      "text/html": [
       "<div>\n",
       "<style scoped>\n",
       "    .dataframe tbody tr th:only-of-type {\n",
       "        vertical-align: middle;\n",
       "    }\n",
       "\n",
       "    .dataframe tbody tr th {\n",
       "        vertical-align: top;\n",
       "    }\n",
       "\n",
       "    .dataframe thead th {\n",
       "        text-align: right;\n",
       "    }\n",
       "</style>\n",
       "<table border=\"1\" class=\"dataframe\">\n",
       "  <thead>\n",
       "    <tr style=\"text-align: right;\">\n",
       "      <th></th>\n",
       "      <th>Coeficiente de Importancia</th>\n",
       "    </tr>\n",
       "  </thead>\n",
       "  <tbody>\n",
       "    <tr>\n",
       "      <th>Glucose</th>\n",
       "      <td>1.070970</td>\n",
       "    </tr>\n",
       "    <tr>\n",
       "      <th>BMI</th>\n",
       "      <td>0.710969</td>\n",
       "    </tr>\n",
       "    <tr>\n",
       "      <th>Pregnancies</th>\n",
       "      <td>0.317503</td>\n",
       "    </tr>\n",
       "    <tr>\n",
       "      <th>DiabetesPedigreeFunction</th>\n",
       "      <td>0.273477</td>\n",
       "    </tr>\n",
       "    <tr>\n",
       "      <th>Age</th>\n",
       "      <td>0.248466</td>\n",
       "    </tr>\n",
       "    <tr>\n",
       "      <th>SkinThickness</th>\n",
       "      <td>-0.075616</td>\n",
       "    </tr>\n",
       "    <tr>\n",
       "      <th>BloodPressure</th>\n",
       "      <td>-0.176058</td>\n",
       "    </tr>\n",
       "  </tbody>\n",
       "</table>\n",
       "</div>"
      ],
      "text/plain": [
       "                          Coeficiente de Importancia\n",
       "Glucose                                     1.070970\n",
       "BMI                                         0.710969\n",
       "Pregnancies                                 0.317503\n",
       "DiabetesPedigreeFunction                    0.273477\n",
       "Age                                         0.248466\n",
       "SkinThickness                              -0.075616\n",
       "BloodPressure                              -0.176058"
      ]
     },
     "metadata": {},
     "output_type": "display_data"
    },
    {
     "data": {
      "image/png": "[encoded data removed]",
      "text/plain": [
       "<Figure size 1080x360 with 1 Axes>"
      ]
     },
     "metadata": {
      "needs_background": "light"
     },
     "output_type": "display_data"
    }
   ],
   "source": [
    "#Calcular a importância (coef_)\n",
    "importancia_caracteristicas = pd.DataFrame(data=classificar_diabetes.coef_, columns=z_x_treino.columns)\n",
    "#Organizar de forma decrescente\n",
    "importancia_caracteristicas = importancia_caracteristicas.transpose().sort_values(by=0, ascending=False)\n",
    "display(importancia_caracteristicas.rename(columns={0: 'Coeficiente de Importancia'}))\n",
    "\n",
    "#Exibir gráfico das importancias\n",
    "plt.figure(figsize=(15,5))\n",
    "sns.barplot(x=importancia_caracteristicas[0], y=importancia_caracteristicas.index, color='Grey')\n",
    "plt.xlabel('Importancia')\n",
    "plt.title('\\nCoeficiente das Importancia por Característica\\n')\n",
    "plt.show()"
   ]
  },
  {
   "cell_type": "markdown",
   "id": "9a9f328a",
   "metadata": {},
   "source": [
    "Observações do Coeficiente de Importância obtido:\n",
    "\n",
    "- Glucose e BMI são as características mais relevantes no processo de classificação da diabetes. Por serem valores positivos concluímos que quanto mais alto seus valores, maiores serão as chances dos pacientes se tornarem diabéticos.\n",
    "\n",
    "\n",
    "- SkinThickness e BloodPressure possuem valores negativos, indicando que seus valores são inversamente proporcionais ao fator diabetes. Ou seja, quanto maiores seus valores maiores são as chances de a pessoa não possuir diabetes.\n",
    "\n",
    "\n",
    "- SkinThickness é a característica menos importante para o modelo. Como anteriormente havíamos notado que 30% dos seus dados estavam faltando, fica agora mais um indicativo para exclusão desta característica do modelo. "
   ]
  },
  {
   "cell_type": "markdown",
   "id": "b1e0cf21",
   "metadata": {},
   "source": [
    "**Primeira Tentativa de Melhoria do Modelo**\n",
    "\n",
    "Devido as observações feitas anteriormente, retiraremos agora do modelo a característica SkinThickness para ver como o modelo se comporta e se existe alguma melhoria significativa nos resultados."
   ]
  },
  {
   "cell_type": "code",
   "execution_count": 19,
   "id": "87338d97",
   "metadata": {},
   "outputs": [
    {
     "data": {
      "image/png": "[encoded data removed]",
      "text/plain": [
       "<Figure size 432x288 with 2 Axes>"
      ]
     },
     "metadata": {
      "needs_background": "light"
     },
     "output_type": "display_data"
    },
    {
     "name": "stdout",
     "output_type": "stream",
     "text": [
      "\n",
      "\n",
      "Relatório de classificação:\n",
      "\n",
      "               precision    recall  f1-score   support\n",
      "\n",
      "           0       0.81      0.90      0.85       130\n",
      "           1       0.73      0.56      0.64        62\n",
      "\n",
      "    accuracy                           0.79       192\n",
      "   macro avg       0.77      0.73      0.75       192\n",
      "weighted avg       0.79      0.79      0.78       192\n",
      "\n"
     ]
    }
   ],
   "source": [
    "#Excluir SkinThickness\n",
    "z_x_treino = z_x_treino.drop('SkinThickness', axis=1)\n",
    "z_x_teste = z_x_teste.drop('SkinThickness', axis=1)\n",
    "\n",
    "#Treinar Modelo\n",
    "classificar_diabetes.fit(z_x_treino, y_treino)\n",
    "\n",
    "#Testar Modelo\n",
    "y_pred = classificar_diabetes.predict(z_x_teste)\n",
    "\n",
    "#Avaliar Modelo\n",
    "grafico = ConfusionMatrixDisplay(confusion_matrix(y_teste, y_pred), display_labels=classificar_diabetes.classes_)\n",
    "grafico.plot()\n",
    "plt.title('Matriz de Confusão')\n",
    "plt.show()\n",
    "print('\\n\\nRelatório de classificação:\\n\\n', classification_report(y_teste, y_pred))"
   ]
  },
  {
   "cell_type": "markdown",
   "id": "2f19ef25",
   "metadata": {},
   "source": [
    "O novo modelo agora teve a seguinte avaliação:\n",
    "\n",
    "- O modelo acertou os mesmos 117 pacientes que não possuíam diabetes, porém, agora, 35 que eram diabéticos. 1 a menos. \n",
    "- O modelo errou os mesmos 13 pacientes que não eram diabéticos dizendo serem e, agora, 27 que eram dizendo não serem. Também 1 a menos. \n",
    "\n",
    "Complementando com o relatório de classificação, agora temos que, nosso modelo possui:\n",
    "\n",
    "- Acuracidade de 79% em suas classificações.\n",
    "- 81% de precisão sobre os pacientes não diabéticos e 73% sobre os diabéticos\n",
    "- 90% de recall sobre os não diabéticos e 56% sobre os diabéticos."
   ]
  },
  {
   "cell_type": "markdown",
   "id": "94e0fff9",
   "metadata": {},
   "source": [
    "Não houve melhoria no modelo, os valores foram ligeiramente piores. Mas, como a diferença foi mínima, optaremos pela simplificação do modelo, mantendo a exclusão desta característica."
   ]
  },
  {
   "cell_type": "code",
   "execution_count": 20,
   "id": "706470de",
   "metadata": {},
   "outputs": [
    {
     "data": {
      "text/html": [
       "<div>\n",
       "<style scoped>\n",
       "    .dataframe tbody tr th:only-of-type {\n",
       "        vertical-align: middle;\n",
       "    }\n",
       "\n",
       "    .dataframe tbody tr th {\n",
       "        vertical-align: top;\n",
       "    }\n",
       "\n",
       "    .dataframe thead th {\n",
       "        text-align: right;\n",
       "    }\n",
       "</style>\n",
       "<table border=\"1\" class=\"dataframe\">\n",
       "  <thead>\n",
       "    <tr style=\"text-align: right;\">\n",
       "      <th></th>\n",
       "      <th>Coeficiente de Importancia</th>\n",
       "    </tr>\n",
       "  </thead>\n",
       "  <tbody>\n",
       "    <tr>\n",
       "      <th>Glucose</th>\n",
       "      <td>1.071109</td>\n",
       "    </tr>\n",
       "    <tr>\n",
       "      <th>BMI</th>\n",
       "      <td>0.669222</td>\n",
       "    </tr>\n",
       "    <tr>\n",
       "      <th>Pregnancies</th>\n",
       "      <td>0.314990</td>\n",
       "    </tr>\n",
       "    <tr>\n",
       "      <th>DiabetesPedigreeFunction</th>\n",
       "      <td>0.273530</td>\n",
       "    </tr>\n",
       "    <tr>\n",
       "      <th>Age</th>\n",
       "      <td>0.243087</td>\n",
       "    </tr>\n",
       "    <tr>\n",
       "      <th>BloodPressure</th>\n",
       "      <td>-0.176557</td>\n",
       "    </tr>\n",
       "  </tbody>\n",
       "</table>\n",
       "</div>"
      ],
      "text/plain": [
       "                          Coeficiente de Importancia\n",
       "Glucose                                     1.071109\n",
       "BMI                                         0.669222\n",
       "Pregnancies                                 0.314990\n",
       "DiabetesPedigreeFunction                    0.273530\n",
       "Age                                         0.243087\n",
       "BloodPressure                              -0.176557"
      ]
     },
     "metadata": {},
     "output_type": "display_data"
    },
    {
     "data": {
      "image/png": "[encoded data removed]",
      "text/plain": [
       "<Figure size 1080x360 with 1 Axes>"
      ]
     },
     "metadata": {
      "needs_background": "light"
     },
     "output_type": "display_data"
    }
   ],
   "source": [
    "#Calcular a importância (coef_)\n",
    "importancia_caracteristicas = pd.DataFrame(data=classificar_diabetes.coef_, columns=z_x_treino.columns)\n",
    "#Organizar de forma decrescente\n",
    "importancia_caracteristicas = importancia_caracteristicas.transpose().sort_values(by=0, ascending=False)\n",
    "display(importancia_caracteristicas.rename(columns={0: 'Coeficiente de Importancia'}))\n",
    "\n",
    "#Exibir gráfico das importancias\n",
    "plt.figure(figsize=(15,5))\n",
    "sns.barplot(x=importancia_caracteristicas[0], y=importancia_caracteristicas.index, color='Grey')\n",
    "plt.xlabel('Importancia')\n",
    "plt.title('\\nCoeficiente das Importancia por Característica\\n')\n",
    "plt.show()"
   ]
  },
  {
   "cell_type": "markdown",
   "id": "170d7590",
   "metadata": {},
   "source": [
    "    O Coeficiente de Importância das Características mantém o mesmo padrão anterior. Mantemos então as mesmas observações já feitas."
   ]
  },
  {
   "cell_type": "markdown",
   "id": "565f40f6",
   "metadata": {},
   "source": [
    "**Segunda Tentativa de Melhoria**\n",
    "\n",
    "Uma nova tentativa de melhoria será feita. Agruparemos nossas variáveis contínuas de entrada em classes, transformando nossos dados contínuos em dados discretos. Assim poderemos diminuir um pouco a complexidade das informações e, quem sabe melhorar o resultado do modelo."
   ]
  },
  {
   "cell_type": "markdown",
   "id": "b73cc524",
   "metadata": {},
   "source": [
    "Como em um histograma, encontraremos o número de classes (k) ideal para nosso volume de dados amostrais bem como sua amplitude, limite superior e inferior de cada classe, (h).\n",
    "\n",
    "Para o número de classes existe a seguinte regra para boas práticas: \n",
    "\n",
    "Tamanho da Amostra: Número de Classes <br/>\n",
    "Abaixo de 50: 5 a 7       <br/>\n",
    "De 50 a 100: 6 a 10      <br/>\n",
    "De 100 a 250: 7 a 12      <br/>\n",
    "Acima de 250: 10 a 20      <br/>\n",
    "\n",
    "Existem outras regras para também encontrar o k ideal, como por exemplo, a regra de Sturges.\n",
    "\n",
    "Já para a amplitude calcularemos, em cada variável de entrada, h = (Máx - Mín) / k. Sendo: <br/>\n",
    "Máx: O máximo valor da mostra <br/>\n",
    "Mín: O mínimo valor da amostra"
   ]
  },
  {
   "cell_type": "code",
   "execution_count": 21,
   "id": "5b6d1834",
   "metadata": {},
   "outputs": [
    {
     "name": "stdout",
     "output_type": "stream",
     "text": [
      "Tamanho da amostra: 768\n"
     ]
    }
   ],
   "source": [
    "print(f'Tamanho da amostra: {len(x)}')"
   ]
  },
  {
   "cell_type": "markdown",
   "id": "fd0dc18f",
   "metadata": {},
   "source": [
    "Com base na tabela de boas práticas e para não diluirmos demais nossas classes, assumiremos k igual a 15."
   ]
  },
  {
   "cell_type": "code",
   "execution_count": 22,
   "id": "d2e02381",
   "metadata": {},
   "outputs": [],
   "source": [
    "k = 15"
   ]
  },
  {
   "cell_type": "markdown",
   "id": "b626c6fd",
   "metadata": {},
   "source": [
    "Agrupando e discretizando os dados de entrada contínuos:"
   ]
  },
  {
   "cell_type": "code",
   "execution_count": 23,
   "id": "4a93b478",
   "metadata": {},
   "outputs": [],
   "source": [
    "#Calcular o limite inferior de cada classe em cada variável\n",
    "dict_h = {}\n",
    "for coluna in df_corrigido.drop('Outcome', axis=1).columns:\n",
    "    aux = []\n",
    "    h = (df_corrigido[coluna].max() - df_corrigido[coluna].min())/k\n",
    "    for i in range(0,k):\n",
    "        aux.append(i*h)\n",
    "        if i == (k-1):\n",
    "            dict_h[coluna] = aux\n",
    "            aux = []"
   ]
  },
  {
   "cell_type": "code",
   "execution_count": 24,
   "id": "bc6dd458",
   "metadata": {},
   "outputs": [],
   "source": [
    "#Montar o intervalo de classe [limite inferior, limite superior] em cada variável\n",
    "dict_intervalo = {}\n",
    "for coluna in df_corrigido.drop('Outcome', axis=1).columns:\n",
    "    aux = []\n",
    "    for i in range(0,k):\n",
    "        try:\n",
    "            aux.append([dict_h[coluna][i], dict_h[coluna][i+1]])\n",
    "            dict_intervalo[coluna] = aux\n",
    "        except:\n",
    "            aux.append([dict_h[coluna][i], df_corrigido[coluna].max()+0.0001])\n",
    "            dict_intervalo[coluna] = aux"
   ]
  },
  {
   "cell_type": "code",
   "execution_count": 25,
   "id": "12e80b57",
   "metadata": {},
   "outputs": [],
   "source": [
    "#Encontar qual classe cada item do dataset pertence \n",
    "df_corrigido_agrupado = df_corrigido.copy()\n",
    "#Montar classes para dados de entrada com valores contínuos (Glucose,BloodPressure,BMI,SkinThickness,DiabetesPedigreeFunction)\n",
    "for coluna in df_corrigido.drop(['Age', 'Pregnancies', 'Outcome'], axis=1).columns:\n",
    "    aux = []\n",
    "    if coluna in dict_intervalo:\n",
    "        for i in df_corrigido_agrupado[coluna].values:\n",
    "            for j in range(0,k):\n",
    "                if (i>=dict_intervalo[coluna][j][0]) and (i<dict_intervalo[coluna][j][1]):\n",
    "                    aux.append(str(dict_intervalo[coluna][j][0])+'-'+str(dict_intervalo[coluna][j][1]))\n",
    "                    pass\n",
    "#Criar um dataset onde cada item da classe assuma o valor mediano da classe.\n",
    "#Tornar valor contínuo em discreto\n",
    "        coluna_intervalo = coluna+'_intervalo'\n",
    "        coluna_intervalo_mediana = coluna_intervalo+'_mediana'\n",
    "        df_corrigido_agrupado[coluna_intervalo] = aux\n",
    "        aux = df_corrigido_agrupado[[coluna, coluna_intervalo]].groupby(coluna_intervalo).median()\n",
    "        aux  = aux.rename(columns={coluna: coluna_intervalo_mediana})\n",
    "        df_corrigido_agrupado = pd.merge(df_corrigido_agrupado, aux, on=coluna_intervalo)\n",
    "        df_corrigido_agrupado = df_corrigido_agrupado.drop([coluna, coluna_intervalo], axis=1)\n",
    "        df_corrigido_agrupado = df_corrigido_agrupado.rename(columns={coluna_intervalo_mediana: coluna})"
   ]
  },
  {
   "cell_type": "code",
   "execution_count": 26,
   "id": "c1942cb5",
   "metadata": {
    "scrolled": false
   },
   "outputs": [
    {
     "data": {
      "text/plain": [
       "'Quantidade de Valores Únicos ANTES do Agrupamento:'"
      ]
     },
     "metadata": {},
     "output_type": "display_data"
    },
    {
     "data": {
      "text/plain": [
       "Age                          52\n",
       "BMI                         248\n",
       "BloodPressure                47\n",
       "DiabetesPedigreeFunction    517\n",
       "Glucose                     136\n",
       "Outcome                       2\n",
       "Pregnancies                  17\n",
       "SkinThickness                51\n",
       "dtype: int64"
      ]
     },
     "metadata": {},
     "output_type": "display_data"
    },
    {
     "data": {
      "text/plain": [
       "'Quantidade de Valores Únicos DEPOIS do Agrupamento'"
      ]
     },
     "metadata": {},
     "output_type": "display_data"
    },
    {
     "data": {
      "text/plain": [
       "Age                         52\n",
       "BMI                         10\n",
       "BloodPressure               12\n",
       "DiabetesPedigreeFunction    15\n",
       "Glucose                     11\n",
       "Outcome                      2\n",
       "Pregnancies                 17\n",
       "SkinThickness               11\n",
       "dtype: int64"
      ]
     },
     "metadata": {},
     "output_type": "display_data"
    }
   ],
   "source": [
    "#Visualizar a diferença entre o dataset original e o dataset agrupado\n",
    "display('Quantidade de Valores Únicos ANTES do Agrupamento:',df_corrigido.nunique().sort_index(),'Quantidade de Valores Únicos DEPOIS do Agrupamento', df_corrigido_agrupado.nunique().sort_index())"
   ]
  },
  {
   "cell_type": "markdown",
   "id": "d550ee43",
   "metadata": {},
   "source": [
    "Após o agrupamento das variáveis contínuas de entrada, executaremos as mesmas tarefas executadas na primeira tentativa de melhoria já com o dataset corrigido e padronizado."
   ]
  },
  {
   "cell_type": "code",
   "execution_count": 27,
   "id": "6c385605",
   "metadata": {},
   "outputs": [
    {
     "data": {
      "image/png": "[encoded data removed]",
      "text/plain": [
       "<Figure size 432x288 with 2 Axes>"
      ]
     },
     "metadata": {
      "needs_background": "light"
     },
     "output_type": "display_data"
    },
    {
     "name": "stdout",
     "output_type": "stream",
     "text": [
      "\n",
      "\n",
      "Relatório de classificação:\n",
      "\n",
      "               precision    recall  f1-score   support\n",
      "\n",
      "           0       0.87      0.90      0.88       132\n",
      "           1       0.76      0.70      0.73        60\n",
      "\n",
      "    accuracy                           0.84       192\n",
      "   macro avg       0.82      0.80      0.81       192\n",
      "weighted avg       0.84      0.84      0.84       192\n",
      "\n"
     ]
    }
   ],
   "source": [
    "#Separar os dados em x e y\n",
    "y = df_corrigido_agrupado['Outcome']\n",
    "x = df_corrigido_agrupado.drop('Outcome', axis=1)\n",
    "\n",
    "#Separar os dados para treino e para teste\n",
    "x_treino, x_teste, y_treino, y_teste = train_test_split(x, y, test_size=0.25, random_state=0)\n",
    "\n",
    "#Padronizar variáveis independentes\n",
    "z_x_treino = (x_treino - x_treino.mean()) / x_treino.std()\n",
    "z_x_teste = (x_teste - x_teste.mean()) / x_teste.std()\n",
    "\n",
    "#Manter a exclusão da caracteríistica SkinThickness\n",
    "z_x_treino = z_x_treino.drop('SkinThickness', axis=1)\n",
    "z_x_teste = z_x_teste.drop('SkinThickness', axis=1)\n",
    "\n",
    "#Criar modelo\n",
    "classificar_diabetes = LogisticRegression(max_iter=200)\n",
    "\n",
    "#Treinar Modelo\n",
    "classificar_diabetes.fit(z_x_treino, y_treino)\n",
    "\n",
    "#Testar Modelo\n",
    "y_pred = classificar_diabetes.predict(z_x_teste)\n",
    "\n",
    "#Avaliar Modelo\n",
    "grafico = ConfusionMatrixDisplay(confusion_matrix(y_teste, y_pred), display_labels=classificar_diabetes.classes_)\n",
    "grafico.plot()\n",
    "plt.title('Matriz de Confusão')\n",
    "plt.show()\n",
    "\n",
    "print('\\n\\nRelatório de classificação:\\n\\n', classification_report(y_teste, y_pred))"
   ]
  },
  {
   "cell_type": "markdown",
   "id": "fa2f5ec0",
   "metadata": {},
   "source": [
    "Pela matriz de confusão agora temos que:\n",
    "\n",
    "- O modelo acertou 119 pacientes que não possuíam diabetes, 2 a mais que os outros modelos, e 42 que eram diabéticos, 6 a mais que o melhor modelo anterior\n",
    "- O modelo errou os mesmos 13 pacientes que não eram diabéticos dizendo serem e 18 que eram dizendo não serem, 8 a menos que o melhor modelo anterior \n",
    "\n",
    "Complementando com o relatório de classificação, agora temos que, nosso modelo obteve:\n",
    "\n",
    "- Acuracidade de 84% em suas classificações. Um aumento de 4% referente a melhor pontuação anterior\n",
    "- 87% de precisão sobre os pacientes não diabéticos, aumento de 5%, e 76% sobre os diabéticos, aumento de 3%\n",
    "- Os mesmos 90% de recall sobre os não diabéticos e 70% sobre os diabéticos, aumento de 12%."
   ]
  },
  {
   "cell_type": "code",
   "execution_count": 28,
   "id": "ac1fb69e",
   "metadata": {
    "scrolled": true
   },
   "outputs": [
    {
     "data": {
      "text/html": [
       "<div>\n",
       "<style scoped>\n",
       "    .dataframe tbody tr th:only-of-type {\n",
       "        vertical-align: middle;\n",
       "    }\n",
       "\n",
       "    .dataframe tbody tr th {\n",
       "        vertical-align: top;\n",
       "    }\n",
       "\n",
       "    .dataframe thead th {\n",
       "        text-align: right;\n",
       "    }\n",
       "</style>\n",
       "<table border=\"1\" class=\"dataframe\">\n",
       "  <thead>\n",
       "    <tr style=\"text-align: right;\">\n",
       "      <th></th>\n",
       "      <th>Coeficiente de Importancia</th>\n",
       "    </tr>\n",
       "  </thead>\n",
       "  <tbody>\n",
       "    <tr>\n",
       "      <th>Glucose</th>\n",
       "      <td>0.938627</td>\n",
       "    </tr>\n",
       "    <tr>\n",
       "      <th>BMI</th>\n",
       "      <td>0.565491</td>\n",
       "    </tr>\n",
       "    <tr>\n",
       "      <th>Pregnancies</th>\n",
       "      <td>0.452905</td>\n",
       "    </tr>\n",
       "    <tr>\n",
       "      <th>DiabetesPedigreeFunction</th>\n",
       "      <td>0.411576</td>\n",
       "    </tr>\n",
       "    <tr>\n",
       "      <th>BloodPressure</th>\n",
       "      <td>0.076282</td>\n",
       "    </tr>\n",
       "    <tr>\n",
       "      <th>Age</th>\n",
       "      <td>0.041201</td>\n",
       "    </tr>\n",
       "  </tbody>\n",
       "</table>\n",
       "</div>"
      ],
      "text/plain": [
       "                          Coeficiente de Importancia\n",
       "Glucose                                     0.938627\n",
       "BMI                                         0.565491\n",
       "Pregnancies                                 0.452905\n",
       "DiabetesPedigreeFunction                    0.411576\n",
       "BloodPressure                               0.076282\n",
       "Age                                         0.041201"
      ]
     },
     "metadata": {},
     "output_type": "display_data"
    },
    {
     "data": {
      "image/png": "[encoded data removed]",
      "text/plain": [
       "<Figure size 1080x360 with 1 Axes>"
      ]
     },
     "metadata": {
      "needs_background": "light"
     },
     "output_type": "display_data"
    }
   ],
   "source": [
    "#Calcular a importância (coef_)\n",
    "importancia_caracteristicas = pd.DataFrame(data=classificar_diabetes.coef_, columns=z_x_treino.columns)\n",
    "#Organizar de forma decrescente\n",
    "importancia_caracteristicas = importancia_caracteristicas.transpose().sort_values(by=0, ascending=False)\n",
    "display(importancia_caracteristicas.rename(columns={0: 'Coeficiente de Importancia'}))\n",
    "\n",
    "#Exibir gráfico das importancias\n",
    "plt.figure(figsize=(15,5))\n",
    "sns.barplot(x=importancia_caracteristicas[0], y=importancia_caracteristicas.index, color='Grey')\n",
    "plt.xlabel('Importancia')\n",
    "plt.title('\\nCoeficiente das Importancia por Característica\\n')\n",
    "plt.show()"
   ]
  },
  {
   "cell_type": "markdown",
   "id": "a10dd2fe",
   "metadata": {},
   "source": [
    "Com o agrupamento das informações podemos reparar que o fator BloodPressure tornou-se um coeficiente de importância positivo. Agora, mesmo que com menor influência que os demais, ele se relaciona de forma diretamente proporcional à classe diabetes."
   ]
  },
  {
   "cell_type": "markdown",
   "id": "964b539a",
   "metadata": {},
   "source": [
    "Assumiremos este útlimo modelo como o ideal encontrado para o nosso problema proposto."
   ]
  },
  {
   "cell_type": "markdown",
   "id": "d3097b60",
   "metadata": {},
   "source": [
    "**Conclusão**"
   ]
  },
  {
   "cell_type": "markdown",
   "id": "488c5b9f",
   "metadata": {},
   "source": [
    "Finalizamos nosso modelo com uma acuracidade de 84%. conseguindo, chegar a acertar 87% das previsões para a não incidência da diabetes e 76% sobre sua incidência. Para chegar a este resultado levamos em consideração informações do paciente sobre número de gestações, idade, glicose, pressão arterial, IMC e _DiabetesPedigreeFunction_."
   ]
  }
 ],
 "metadata": {
  "kernelspec": {
   "display_name": "Python 3 (ipykernel)",
   "language": "python",
   "name": "python3"
  },
  "language_info": {
   "codemirror_mode": {
    "name": "ipython",
    "version": 3
   },
   "file_extension": ".py",
   "mimetype": "text/x-python",
   "name": "python",
   "nbconvert_exporter": "python",
   "pygments_lexer": "ipython3",
   "version": "3.9.7"
  }
 },
 "nbformat": 4,
 "nbformat_minor": 5
}
